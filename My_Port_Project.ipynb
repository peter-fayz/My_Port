{
 "cells": [
  {
   "cell_type": "code",
   "execution_count": 147,
   "metadata": {},
   "outputs": [],
   "source": [
    "import pandas as pd\n",
    "import re\n",
    "import difflib\n",
    "from datetime import datetime\n",
    "from dateutil.relativedelta import relativedelta\n",
    "from bs4 import BeautifulSoup\n",
    "import requests\n",
    "import os"
   ]
  },
  {
   "cell_type": "code",
   "execution_count": 148,
   "metadata": {},
   "outputs": [],
   "source": [
    "#Get sheet names from Excel File\n",
    "Ex_file = pd.ExcelFile('MyPoert AUG sheet1.xlsx')\n",
    "sheet_names = Ex_file.sheet_names"
   ]
  },
  {
   "cell_type": "code",
   "execution_count": 149,
   "metadata": {},
   "outputs": [
    {
     "data": {
      "text/html": [
       "<div>\n",
       "<style scoped>\n",
       "    .dataframe tbody tr th:only-of-type {\n",
       "        vertical-align: middle;\n",
       "    }\n",
       "\n",
       "    .dataframe tbody tr th {\n",
       "        vertical-align: top;\n",
       "    }\n",
       "\n",
       "    .dataframe thead th {\n",
       "        text-align: right;\n",
       "    }\n",
       "</style>\n",
       "<table border=\"1\" class=\"dataframe\">\n",
       "  <thead>\n",
       "    <tr style=\"text-align: right;\">\n",
       "      <th></th>\n",
       "      <th>Country</th>\n",
       "      <th>trip</th>\n",
       "      <th>details</th>\n",
       "    </tr>\n",
       "  </thead>\n",
       "  <tbody>\n",
       "    <tr>\n",
       "      <th>0</th>\n",
       "      <td>Reunion</td>\n",
       "      <td>FROM Frederikshavn TO Liepaja</td>\n",
       "      <td>Trip: ONE WAY\\nPrice starts from:EUR  3306\\n</td>\n",
       "    </tr>\n",
       "    <tr>\n",
       "      <th>1</th>\n",
       "      <td>Reunion</td>\n",
       "      <td>from Emden TO Fos-sur-Mer</td>\n",
       "      <td>Trip:ONE WAY\\nprice start from :EUR  6363</td>\n",
       "    </tr>\n",
       "  </tbody>\n",
       "</table>\n",
       "</div>"
      ],
      "text/plain": [
       "   Country                           trip  \\\n",
       "0  Reunion  FROM Frederikshavn TO Liepaja   \n",
       "1  Reunion      from Emden TO Fos-sur-Mer   \n",
       "\n",
       "                                        details  \n",
       "0  Trip: ONE WAY\\nPrice starts from:EUR  3306\\n  \n",
       "1     Trip:ONE WAY\\nprice start from :EUR  6363  "
      ]
     },
     "execution_count": 149,
     "metadata": {},
     "output_type": "execute_result"
    }
   ],
   "source": [
    "df_myport = pd.DataFrame()\n",
    "\n",
    "for sheet in sheet_names:\n",
    "    df = pd.read_excel('MyPoert AUG sheet1.xlsx',sheet_name=sheet)\n",
    "    \n",
    "    df = df[df.columns[0:2]]\n",
    "    df = df.rename(columns={df.columns[0]: 'trip', df.columns[1]: 'details'})\n",
    "    df['Country'] = sheet\n",
    "    \n",
    "    df_myport = pd.concat([df_myport,df])\n",
    "\n",
    "\n",
    "country = df_myport.pop('Country')\n",
    "df_myport.insert(0,'Country',country)\n",
    "df_myport.reset_index(drop=True,inplace=True)\n",
    "\n",
    "df_myport.ffill(inplace=True)\n",
    "df_myport.drop_duplicates(inplace=True)\n",
    "\n",
    "index_of_duplicated = list(df_myport[(df_myport[['Country','trip']].duplicated())].index)\n",
    "\n",
    "for i in index_of_duplicated:\n",
    "    df_myport['details'].loc[i-1] += ' \\n ' + df_myport['details'].loc[i]\n",
    "\n",
    "\n",
    "df_myport.drop(index=index_of_duplicated,inplace=True)\n",
    "\n",
    "df_myport.head(2)"
   ]
  },
  {
   "cell_type": "code",
   "execution_count": 150,
   "metadata": {},
   "outputs": [],
   "source": [
    "df_myport['trip_type'] = df_myport['details'].apply(lambda x : 'R' if 'round' in x.lower() else 'O')\n",
    "\n",
    "df_myport['price'] = (df_myport['details'].str.findall('(\\d+)').apply(lambda x : int(x[0]) if x else None))\n"
   ]
  },
  {
   "cell_type": "code",
   "execution_count": 151,
   "metadata": {},
   "outputs": [
    {
     "data": {
      "text/html": [
       "<div>\n",
       "<style scoped>\n",
       "    .dataframe tbody tr th:only-of-type {\n",
       "        vertical-align: middle;\n",
       "    }\n",
       "\n",
       "    .dataframe tbody tr th {\n",
       "        vertical-align: top;\n",
       "    }\n",
       "\n",
       "    .dataframe thead th {\n",
       "        text-align: right;\n",
       "    }\n",
       "</style>\n",
       "<table border=\"1\" class=\"dataframe\">\n",
       "  <thead>\n",
       "    <tr style=\"text-align: right;\">\n",
       "      <th></th>\n",
       "      <th>Country</th>\n",
       "      <th>trip</th>\n",
       "      <th>details</th>\n",
       "      <th>trip_type</th>\n",
       "      <th>price</th>\n",
       "      <th>price_ar</th>\n",
       "    </tr>\n",
       "  </thead>\n",
       "  <tbody>\n",
       "    <tr>\n",
       "      <th>0</th>\n",
       "      <td>Reunion</td>\n",
       "      <td>FROM Frederikshavn TO Liepaja</td>\n",
       "      <td>Trip: ONE WAY\\nPrice starts from:EUR  3306\\n</td>\n",
       "      <td>O</td>\n",
       "      <td>3306</td>\n",
       "      <td>٣٣٠٦</td>\n",
       "    </tr>\n",
       "    <tr>\n",
       "      <th>1</th>\n",
       "      <td>Reunion</td>\n",
       "      <td>from Emden TO Fos-sur-Mer</td>\n",
       "      <td>Trip:ONE WAY\\nprice start from :EUR  6363</td>\n",
       "      <td>O</td>\n",
       "      <td>6363</td>\n",
       "      <td>٦٣٦٣</td>\n",
       "    </tr>\n",
       "  </tbody>\n",
       "</table>\n",
       "</div>"
      ],
      "text/plain": [
       "   Country                           trip  \\\n",
       "0  Reunion  FROM Frederikshavn TO Liepaja   \n",
       "1  Reunion      from Emden TO Fos-sur-Mer   \n",
       "\n",
       "                                        details trip_type  price price_ar  \n",
       "0  Trip: ONE WAY\\nPrice starts from:EUR  3306\\n         O   3306     ٣٣٠٦  \n",
       "1     Trip:ONE WAY\\nprice start from :EUR  6363         O   6363     ٦٣٦٣  "
      ]
     },
     "execution_count": 151,
     "metadata": {},
     "output_type": "execute_result"
    }
   ],
   "source": [
    "def trans_to_arabic(x):\n",
    "    # Define the translation table\n",
    "    arabic = '٠١٢٣٤٥٦٧٨٩'\n",
    "    english = '0123456789'\n",
    "    translation_table = str.maketrans(english, arabic)\n",
    "\n",
    "    # Translate English numerals to Arabic numerals\n",
    "    arabic_num = str(x).translate(translation_table)\n",
    "    return arabic_num  # Outputs: ١٢٣٤٥٦٧٨٩٠\n",
    "\n",
    "df_myport['price_ar'] = df_myport['price'].apply(trans_to_arabic)\n",
    "\n",
    "df_myport.head(2)"
   ]
  },
  {
   "cell_type": "code",
   "execution_count": 152,
   "metadata": {},
   "outputs": [],
   "source": [
    "df_myport['from'] = df_myport['trip'].str.extract('FROM (.*)TO ', flags=re.IGNORECASE)\n",
    "df_myport['to'] = df_myport['trip'].str.extract('TO (.*)', flags=re.IGNORECASE)"
   ]
  },
  {
   "cell_type": "code",
   "execution_count": 153,
   "metadata": {},
   "outputs": [],
   "source": [
    "error_from = list(df_myport[df_myport['from'].isna()].index)\n",
    "\n",
    "for i in error_from:\n",
    "    df_myport.at[i,'from'] = df_myport.loc[[i]]['trip'].str.extract('FRM (.*) TO', flags=re.IGNORECASE).loc[i][0]\n",
    "\n",
    "\n",
    "df_myport['from'] = df_myport['from'].apply(lambda x : str(x).strip())"
   ]
  },
  {
   "cell_type": "code",
   "execution_count": null,
   "metadata": {},
   "outputs": [],
   "source": []
  },
  {
   "cell_type": "code",
   "execution_count": null,
   "metadata": {},
   "outputs": [],
   "source": []
  },
  {
   "cell_type": "code",
   "execution_count": null,
   "metadata": {},
   "outputs": [],
   "source": []
  },
  {
   "cell_type": "code",
   "execution_count": 154,
   "metadata": {},
   "outputs": [],
   "source": [
    "respose = requests.get('https://geographyfieldwork.com/WorldCapitalCities.htm')\n",
    "soup = BeautifulSoup(respose.text,'html.parser')\n",
    "\n",
    "table = soup.find('table',attrs={'summary':\"World Capitals\"})\n",
    "table_rows = table.find_all(\"tr\")"
   ]
  },
  {
   "cell_type": "code",
   "execution_count": 155,
   "metadata": {},
   "outputs": [],
   "source": [
    "row_data = []\n",
    "\n",
    "for tr in table_rows:\n",
    "    td = tr.find_all(\"td\")\n",
    "    data = [cell.text for cell in td]\n",
    "    row_data.append(data)\n",
    "\n",
    "row_data = row_data[1:-1]"
   ]
  },
  {
   "cell_type": "code",
   "execution_count": 156,
   "metadata": {},
   "outputs": [],
   "source": [
    "countries = []\n",
    "capitals = []\n",
    "\n",
    "for country , capital in row_data:\n",
    "    countries.append(country)\n",
    "    capitals.append(capital)\n"
   ]
  },
  {
   "cell_type": "code",
   "execution_count": 157,
   "metadata": {},
   "outputs": [],
   "source": [
    "all_countries = pd.DataFrame(data={'country':countries,'capital':capitals})"
   ]
  },
  {
   "cell_type": "code",
   "execution_count": 158,
   "metadata": {},
   "outputs": [],
   "source": [
    "all_countries['capital'] = all_countries['capital'].apply(lambda x : x.split('[')[0])\n",
    "all_countries['capital'] = all_countries['capital'].apply(lambda x : x.split('(')[0])\n",
    "\n",
    "all_countries['country'] = all_countries['country'].apply(lambda x : x.split('[')[0])\n",
    "all_countries['country'] = all_countries['country'].apply(lambda x : x.split('(')[0])"
   ]
  },
  {
   "cell_type": "code",
   "execution_count": 159,
   "metadata": {},
   "outputs": [
    {
     "data": {
      "text/html": [
       "<div>\n",
       "<style scoped>\n",
       "    .dataframe tbody tr th:only-of-type {\n",
       "        vertical-align: middle;\n",
       "    }\n",
       "\n",
       "    .dataframe tbody tr th {\n",
       "        vertical-align: top;\n",
       "    }\n",
       "\n",
       "    .dataframe thead th {\n",
       "        text-align: right;\n",
       "    }\n",
       "</style>\n",
       "<table border=\"1\" class=\"dataframe\">\n",
       "  <thead>\n",
       "    <tr style=\"text-align: right;\">\n",
       "      <th></th>\n",
       "      <th>country</th>\n",
       "      <th>capital</th>\n",
       "    </tr>\n",
       "  </thead>\n",
       "  <tbody>\n",
       "    <tr>\n",
       "      <th>0</th>\n",
       "      <td>Afghanistan</td>\n",
       "      <td>Kabul</td>\n",
       "    </tr>\n",
       "    <tr>\n",
       "      <th>1</th>\n",
       "      <td>Albania</td>\n",
       "      <td>Tirana</td>\n",
       "    </tr>\n",
       "  </tbody>\n",
       "</table>\n",
       "</div>"
      ],
      "text/plain": [
       "       country  capital\n",
       "0  Afghanistan    Kabul\n",
       "1      Albania  Tirana "
      ]
     },
     "execution_count": 159,
     "metadata": {},
     "output_type": "execute_result"
    }
   ],
   "source": [
    "all_countries.head(2)"
   ]
  },
  {
   "cell_type": "code",
   "execution_count": null,
   "metadata": {},
   "outputs": [],
   "source": []
  },
  {
   "cell_type": "code",
   "execution_count": null,
   "metadata": {},
   "outputs": [],
   "source": []
  },
  {
   "cell_type": "code",
   "execution_count": 160,
   "metadata": {},
   "outputs": [
    {
     "data": {
      "text/html": [
       "<div>\n",
       "<style scoped>\n",
       "    .dataframe tbody tr th:only-of-type {\n",
       "        vertical-align: middle;\n",
       "    }\n",
       "\n",
       "    .dataframe tbody tr th {\n",
       "        vertical-align: top;\n",
       "    }\n",
       "\n",
       "    .dataframe thead th {\n",
       "        text-align: right;\n",
       "    }\n",
       "</style>\n",
       "<table border=\"1\" class=\"dataframe\">\n",
       "  <thead>\n",
       "    <tr style=\"text-align: right;\">\n",
       "      <th></th>\n",
       "      <th>Country</th>\n",
       "      <th>ID</th>\n",
       "    </tr>\n",
       "  </thead>\n",
       "  <tbody>\n",
       "    <tr>\n",
       "      <th>0</th>\n",
       "      <td>Reunion</td>\n",
       "      <td>23</td>\n",
       "    </tr>\n",
       "    <tr>\n",
       "      <th>1</th>\n",
       "      <td>Fiji</td>\n",
       "      <td>28</td>\n",
       "    </tr>\n",
       "  </tbody>\n",
       "</table>\n",
       "</div>"
      ],
      "text/plain": [
       "   Country  ID\n",
       "0  Reunion  23\n",
       "1     Fiji  28"
      ]
     },
     "execution_count": 160,
     "metadata": {},
     "output_type": "execute_result"
    }
   ],
   "source": [
    "country_df = pd.read_excel('Countries IDs.xlsx')\n",
    "country_df.head(2)"
   ]
  },
  {
   "cell_type": "code",
   "execution_count": 161,
   "metadata": {},
   "outputs": [],
   "source": [
    "df = pd.merge(df_myport, country_df, how='outer', on='Country')\n",
    "\n",
    "null_country = df[df['trip'].isna()].index\n",
    "df.drop(null_country,inplace=True)"
   ]
  },
  {
   "cell_type": "code",
   "execution_count": null,
   "metadata": {},
   "outputs": [],
   "source": []
  },
  {
   "cell_type": "code",
   "execution_count": 162,
   "metadata": {},
   "outputs": [
    {
     "data": {
      "text/plain": [
       "['Paramaribo', 'Isle of Man', 'Majuro']"
      ]
     },
     "execution_count": 162,
     "metadata": {},
     "output_type": "execute_result"
    }
   ],
   "source": [
    "list_of_capitals =  list(df[df['ID'].isna()]['Country'].unique())\n",
    "list_of_capitals"
   ]
  },
  {
   "cell_type": "code",
   "execution_count": 163,
   "metadata": {},
   "outputs": [],
   "source": [
    "for i in range(len(list_of_capitals)):\n",
    "    try:\n",
    "        country = list(all_countries[all_countries['capital'] == list_of_capitals[i]]['country'])[0]\n",
    "        df.replace(list_of_capitals[i],country, inplace=True)\n",
    "    except:\n",
    "        continue"
   ]
  },
  {
   "cell_type": "code",
   "execution_count": 164,
   "metadata": {},
   "outputs": [
    {
     "data": {
      "text/html": [
       "<div>\n",
       "<style scoped>\n",
       "    .dataframe tbody tr th:only-of-type {\n",
       "        vertical-align: middle;\n",
       "    }\n",
       "\n",
       "    .dataframe tbody tr th {\n",
       "        vertical-align: top;\n",
       "    }\n",
       "\n",
       "    .dataframe thead th {\n",
       "        text-align: right;\n",
       "    }\n",
       "</style>\n",
       "<table border=\"1\" class=\"dataframe\">\n",
       "  <thead>\n",
       "    <tr style=\"text-align: right;\">\n",
       "      <th></th>\n",
       "      <th>Country</th>\n",
       "      <th>trip</th>\n",
       "      <th>details</th>\n",
       "      <th>trip_type</th>\n",
       "      <th>price</th>\n",
       "      <th>price_ar</th>\n",
       "      <th>from</th>\n",
       "      <th>to</th>\n",
       "      <th>ID_x</th>\n",
       "      <th>ID_y</th>\n",
       "    </tr>\n",
       "  </thead>\n",
       "  <tbody>\n",
       "    <tr>\n",
       "      <th>0</th>\n",
       "      <td>Reunion</td>\n",
       "      <td>FROM Frederikshavn TO Liepaja</td>\n",
       "      <td>Trip: ONE WAY\\nPrice starts from:EUR  3306\\n</td>\n",
       "      <td>O</td>\n",
       "      <td>3306.0</td>\n",
       "      <td>٣٣٠٦</td>\n",
       "      <td>Frederikshavn</td>\n",
       "      <td>Liepaja</td>\n",
       "      <td>23.0</td>\n",
       "      <td>23.0</td>\n",
       "    </tr>\n",
       "    <tr>\n",
       "      <th>1</th>\n",
       "      <td>Reunion</td>\n",
       "      <td>from Emden TO Fos-sur-Mer</td>\n",
       "      <td>Trip:ONE WAY\\nprice start from :EUR  6363</td>\n",
       "      <td>O</td>\n",
       "      <td>6363.0</td>\n",
       "      <td>٦٣٦٣</td>\n",
       "      <td>Emden</td>\n",
       "      <td>Fos-sur-Mer</td>\n",
       "      <td>23.0</td>\n",
       "      <td>23.0</td>\n",
       "    </tr>\n",
       "  </tbody>\n",
       "</table>\n",
       "</div>"
      ],
      "text/plain": [
       "   Country                           trip  \\\n",
       "0  Reunion  FROM Frederikshavn TO Liepaja   \n",
       "1  Reunion      from Emden TO Fos-sur-Mer   \n",
       "\n",
       "                                        details trip_type   price price_ar  \\\n",
       "0  Trip: ONE WAY\\nPrice starts from:EUR  3306\\n         O  3306.0     ٣٣٠٦   \n",
       "1     Trip:ONE WAY\\nprice start from :EUR  6363         O  6363.0     ٦٣٦٣   \n",
       "\n",
       "            from           to  ID_x  ID_y  \n",
       "0  Frederikshavn      Liepaja  23.0  23.0  \n",
       "1          Emden  Fos-sur-Mer  23.0  23.0  "
      ]
     },
     "execution_count": 164,
     "metadata": {},
     "output_type": "execute_result"
    }
   ],
   "source": [
    "df = pd.merge(df , country_df, how='outer', on='Country')\n",
    "null_country = df[df['trip'].isna()].index\n",
    "df.drop(null_country,inplace=True)\n",
    "df.head(2)"
   ]
  },
  {
   "cell_type": "code",
   "execution_count": 165,
   "metadata": {},
   "outputs": [
    {
     "data": {
      "text/html": [
       "<div>\n",
       "<style scoped>\n",
       "    .dataframe tbody tr th:only-of-type {\n",
       "        vertical-align: middle;\n",
       "    }\n",
       "\n",
       "    .dataframe tbody tr th {\n",
       "        vertical-align: top;\n",
       "    }\n",
       "\n",
       "    .dataframe thead th {\n",
       "        text-align: right;\n",
       "    }\n",
       "</style>\n",
       "<table border=\"1\" class=\"dataframe\">\n",
       "  <thead>\n",
       "    <tr style=\"text-align: right;\">\n",
       "      <th></th>\n",
       "      <th>Country</th>\n",
       "      <th>trip</th>\n",
       "      <th>details</th>\n",
       "      <th>trip_type</th>\n",
       "      <th>price</th>\n",
       "      <th>price_ar</th>\n",
       "      <th>from</th>\n",
       "      <th>to</th>\n",
       "      <th>Country_ID</th>\n",
       "    </tr>\n",
       "  </thead>\n",
       "  <tbody>\n",
       "    <tr>\n",
       "      <th>0</th>\n",
       "      <td>Reunion</td>\n",
       "      <td>FROM Frederikshavn TO Liepaja</td>\n",
       "      <td>Trip: ONE WAY\\nPrice starts from:EUR  3306\\n</td>\n",
       "      <td>O</td>\n",
       "      <td>3306.0</td>\n",
       "      <td>٣٣٠٦</td>\n",
       "      <td>Frederikshavn</td>\n",
       "      <td>Liepaja</td>\n",
       "      <td>23.0</td>\n",
       "    </tr>\n",
       "    <tr>\n",
       "      <th>1</th>\n",
       "      <td>Reunion</td>\n",
       "      <td>from Emden TO Fos-sur-Mer</td>\n",
       "      <td>Trip:ONE WAY\\nprice start from :EUR  6363</td>\n",
       "      <td>O</td>\n",
       "      <td>6363.0</td>\n",
       "      <td>٦٣٦٣</td>\n",
       "      <td>Emden</td>\n",
       "      <td>Fos-sur-Mer</td>\n",
       "      <td>23.0</td>\n",
       "    </tr>\n",
       "  </tbody>\n",
       "</table>\n",
       "</div>"
      ],
      "text/plain": [
       "   Country                           trip  \\\n",
       "0  Reunion  FROM Frederikshavn TO Liepaja   \n",
       "1  Reunion      from Emden TO Fos-sur-Mer   \n",
       "\n",
       "                                        details trip_type   price price_ar  \\\n",
       "0  Trip: ONE WAY\\nPrice starts from:EUR  3306\\n         O  3306.0     ٣٣٠٦   \n",
       "1     Trip:ONE WAY\\nprice start from :EUR  6363         O  6363.0     ٦٣٦٣   \n",
       "\n",
       "            from           to  Country_ID  \n",
       "0  Frederikshavn      Liepaja        23.0  \n",
       "1          Emden  Fos-sur-Mer        23.0  "
      ]
     },
     "execution_count": 165,
     "metadata": {},
     "output_type": "execute_result"
    }
   ],
   "source": [
    "df.drop(['ID_x'],axis=1,inplace=True)\n",
    "df.rename(columns={'ID_y':'Country_ID'},inplace=True)\n",
    "df.head(2)"
   ]
  },
  {
   "cell_type": "code",
   "execution_count": 166,
   "metadata": {},
   "outputs": [],
   "source": [
    "# like Isle of Man\n",
    "country_problem = list(df[df['Country_ID'].isna()]['Country'].unique())\n",
    "\n",
    "problem_collector = {}\n",
    "for i in country_problem :\n",
    "    problem_collector[i] = \"No ID Founded in Countries IDs sheet\"\n",
    "    index = df[df['Country']== i].index\n",
    "    df.drop(index , inplace = True)"
   ]
  },
  {
   "cell_type": "code",
   "execution_count": 167,
   "metadata": {},
   "outputs": [],
   "source": [
    "ports_df = pd.read_excel('Ports_ceties_codes_and_IDs.xlsx')\n",
    "ports_df.rename(columns={'ID':'port_ID'},inplace=True)"
   ]
  },
  {
   "cell_type": "code",
   "execution_count": 168,
   "metadata": {},
   "outputs": [
    {
     "data": {
      "text/html": [
       "<div>\n",
       "<style scoped>\n",
       "    .dataframe tbody tr th:only-of-type {\n",
       "        vertical-align: middle;\n",
       "    }\n",
       "\n",
       "    .dataframe tbody tr th {\n",
       "        vertical-align: top;\n",
       "    }\n",
       "\n",
       "    .dataframe thead th {\n",
       "        text-align: right;\n",
       "    }\n",
       "</style>\n",
       "<table border=\"1\" class=\"dataframe\">\n",
       "  <thead>\n",
       "    <tr style=\"text-align: right;\">\n",
       "      <th></th>\n",
       "      <th>City</th>\n",
       "      <th>Port Name</th>\n",
       "      <th>Code</th>\n",
       "      <th>port_ID</th>\n",
       "    </tr>\n",
       "  </thead>\n",
       "  <tbody>\n",
       "    <tr>\n",
       "      <th>0</th>\n",
       "      <td>Guttenberg</td>\n",
       "      <td>A Coruña</td>\n",
       "      <td>OGX</td>\n",
       "      <td>870</td>\n",
       "    </tr>\n",
       "    <tr>\n",
       "      <th>1</th>\n",
       "      <td>Union City</td>\n",
       "      <td>Aalborg</td>\n",
       "      <td>FFO</td>\n",
       "      <td>229</td>\n",
       "    </tr>\n",
       "  </tbody>\n",
       "</table>\n",
       "</div>"
      ],
      "text/plain": [
       "         City Port Name  Code  port_ID\n",
       "0  Guttenberg  A Coruña   OGX      870\n",
       "1  Union City   Aalborg   FFO      229"
      ]
     },
     "execution_count": 168,
     "metadata": {},
     "output_type": "execute_result"
    }
   ],
   "source": [
    "ports_df.head(2)"
   ]
  },
  {
   "cell_type": "code",
   "execution_count": 169,
   "metadata": {},
   "outputs": [],
   "source": [
    "def find_close_match(city, df2):\n",
    "    # Use difflib to find the most similar city name in df2\n",
    "    close_match = difflib.get_close_matches(city, df2, n=1)\n",
    "    return close_match[0] if close_match else city"
   ]
  },
  {
   "cell_type": "code",
   "execution_count": 170,
   "metadata": {},
   "outputs": [],
   "source": [
    "all_ports_and_cities = pd.concat([ports_df['Port Name'],ports_df['City']]).reset_index(drop=True)\n",
    "\n",
    "df['from_port'] = df['from'].apply(find_close_match, args=(all_ports_and_cities,))\n",
    "df['to_port'] = df['to'].apply(find_close_match, args=(all_ports_and_cities,))\n"
   ]
  },
  {
   "cell_type": "code",
   "execution_count": 171,
   "metadata": {},
   "outputs": [
    {
     "name": "stdout",
     "output_type": "stream",
     "text": [
      "Perth Amboy\n",
      "Berwyn\n"
     ]
    }
   ],
   "source": [
    "list1 = df['from_port'].unique()\n",
    "for i in list1:\n",
    "    if i in ports_df['City'].to_list():\n",
    "        print(i)"
   ]
  },
  {
   "cell_type": "code",
   "execution_count": 172,
   "metadata": {},
   "outputs": [],
   "source": [
    "def handel_cities_names (column):\n",
    "    list1 = df[column].unique()\n",
    "    for i in list1:\n",
    "        if i in ports_df['City'].to_list():\n",
    "\n",
    "            filter = ports_df[ports_df['City'] == i]\n",
    "\n",
    "            if len(filter) == 0 :\n",
    "                problem_collector[i] = 'No mactched Ports for this City in Ports_ceties_codes_and_IDs'\n",
    "                index = df[df[column]== i].index\n",
    "                df.drop(index , inplace = True)\n",
    "\n",
    "            elif len(filter) == 1 :\n",
    "                df[column].replace(i,filter.values[0][1],inplace=True)\n",
    "\n",
    "            elif len(filter) > 1 :\n",
    "                problem_collector[i] = 'There are more than one port For this City in Ports_ceties_codes_and_IDs'\n",
    "                index = df[df[column]== i].index\n",
    "                df.drop(index , inplace = True)\n",
    "                "
   ]
  },
  {
   "cell_type": "code",
   "execution_count": 173,
   "metadata": {},
   "outputs": [],
   "source": [
    "# use the function to replace cities with ports\n",
    "handel_cities_names('from_port')\n",
    "handel_cities_names('to_port')"
   ]
  },
  {
   "cell_type": "code",
   "execution_count": null,
   "metadata": {},
   "outputs": [],
   "source": []
  },
  {
   "cell_type": "code",
   "execution_count": 174,
   "metadata": {},
   "outputs": [],
   "source": [
    "# Filter rows where 'Port Name' is in 'from_port'\n",
    "# Get 'Code' and 'port_ID' columns\n",
    "\n",
    "df['from_code'] = df['from_port'].apply(lambda x : ports_df[ports_df['Port Name'].isin([x])]['Code'].values[0])\n",
    "df['from_id'] = df['from_port'].apply(lambda x : ports_df[ports_df['Port Name'].isin([x])]['port_ID'].values[0])\n",
    "\n",
    "df['to_code'] = df['to_port'].apply(lambda x : ports_df[ports_df['Port Name'].isin([x])]['Code'].values[0])\n",
    "df['to_id'] = df['to_port'].apply(lambda x : ports_df[ports_df['Port Name'].isin([x])]['port_ID'].values[0])\n"
   ]
  },
  {
   "cell_type": "code",
   "execution_count": 175,
   "metadata": {},
   "outputs": [
    {
     "data": {
      "text/html": [
       "<div>\n",
       "<style scoped>\n",
       "    .dataframe tbody tr th:only-of-type {\n",
       "        vertical-align: middle;\n",
       "    }\n",
       "\n",
       "    .dataframe tbody tr th {\n",
       "        vertical-align: top;\n",
       "    }\n",
       "\n",
       "    .dataframe thead th {\n",
       "        text-align: right;\n",
       "    }\n",
       "</style>\n",
       "<table border=\"1\" class=\"dataframe\">\n",
       "  <thead>\n",
       "    <tr style=\"text-align: right;\">\n",
       "      <th></th>\n",
       "      <th>Country</th>\n",
       "      <th>trip</th>\n",
       "      <th>details</th>\n",
       "      <th>trip_type</th>\n",
       "      <th>price</th>\n",
       "      <th>price_ar</th>\n",
       "      <th>from</th>\n",
       "      <th>to</th>\n",
       "      <th>Country_ID</th>\n",
       "      <th>from_port</th>\n",
       "      <th>to_port</th>\n",
       "      <th>from_code</th>\n",
       "      <th>from_id</th>\n",
       "      <th>to_code</th>\n",
       "      <th>to_id</th>\n",
       "    </tr>\n",
       "  </thead>\n",
       "  <tbody>\n",
       "    <tr>\n",
       "      <th>0</th>\n",
       "      <td>Reunion</td>\n",
       "      <td>FROM Frederikshavn TO Liepaja</td>\n",
       "      <td>Trip: ONE WAY\\nPrice starts from:EUR  3306\\n</td>\n",
       "      <td>O</td>\n",
       "      <td>3306.0</td>\n",
       "      <td>٣٣٠٦</td>\n",
       "      <td>Frederikshavn</td>\n",
       "      <td>Liepaja</td>\n",
       "      <td>23.0</td>\n",
       "      <td>Frederikshavn</td>\n",
       "      <td>Liepāja</td>\n",
       "      <td>CAC</td>\n",
       "      <td>372</td>\n",
       "      <td>ZZK</td>\n",
       "      <td>32</td>\n",
       "    </tr>\n",
       "    <tr>\n",
       "      <th>1</th>\n",
       "      <td>Reunion</td>\n",
       "      <td>from Emden TO Fos-sur-Mer</td>\n",
       "      <td>Trip:ONE WAY\\nprice start from :EUR  6363</td>\n",
       "      <td>O</td>\n",
       "      <td>6363.0</td>\n",
       "      <td>٦٣٦٣</td>\n",
       "      <td>Emden</td>\n",
       "      <td>Fos-sur-Mer</td>\n",
       "      <td>23.0</td>\n",
       "      <td>Emden</td>\n",
       "      <td>Fos-sur-Mer</td>\n",
       "      <td>REV</td>\n",
       "      <td>572</td>\n",
       "      <td>KKA</td>\n",
       "      <td>248</td>\n",
       "    </tr>\n",
       "  </tbody>\n",
       "</table>\n",
       "</div>"
      ],
      "text/plain": [
       "   Country                           trip  \\\n",
       "0  Reunion  FROM Frederikshavn TO Liepaja   \n",
       "1  Reunion      from Emden TO Fos-sur-Mer   \n",
       "\n",
       "                                        details trip_type   price price_ar  \\\n",
       "0  Trip: ONE WAY\\nPrice starts from:EUR  3306\\n         O  3306.0     ٣٣٠٦   \n",
       "1     Trip:ONE WAY\\nprice start from :EUR  6363         O  6363.0     ٦٣٦٣   \n",
       "\n",
       "            from           to  Country_ID      from_port      to_port  \\\n",
       "0  Frederikshavn      Liepaja        23.0  Frederikshavn      Liepāja   \n",
       "1          Emden  Fos-sur-Mer        23.0          Emden  Fos-sur-Mer   \n",
       "\n",
       "  from_code  from_id to_code  to_id  \n",
       "0       CAC      372     ZZK     32  \n",
       "1       REV      572     KKA    248  "
      ]
     },
     "execution_count": 175,
     "metadata": {},
     "output_type": "execute_result"
    }
   ],
   "source": [
    "df.head(2)"
   ]
  },
  {
   "cell_type": "code",
   "execution_count": null,
   "metadata": {},
   "outputs": [],
   "source": []
  },
  {
   "cell_type": "code",
   "execution_count": 176,
   "metadata": {},
   "outputs": [],
   "source": [
    "offers_tamplet = pd.DataFrame()\n",
    "\n",
    "offers_tamplet['port_form_id'] = df['from_id']\n",
    "offers_tamplet['port_to_id'] = df['to_id']\n",
    "\n",
    "offers_tamplet['trip_type'] = df['trip_type']\n",
    "\n",
    "offers_tamplet['url'] = (df['from_code'] + \"-\" + df['to_code'] + \"-\" + df['trip_type']).str.lower()\n"
   ]
  },
  {
   "cell_type": "code",
   "execution_count": 177,
   "metadata": {},
   "outputs": [
    {
     "data": {
      "text/html": [
       "<div>\n",
       "<style scoped>\n",
       "    .dataframe tbody tr th:only-of-type {\n",
       "        vertical-align: middle;\n",
       "    }\n",
       "\n",
       "    .dataframe tbody tr th {\n",
       "        vertical-align: top;\n",
       "    }\n",
       "\n",
       "    .dataframe thead th {\n",
       "        text-align: right;\n",
       "    }\n",
       "</style>\n",
       "<table border=\"1\" class=\"dataframe\">\n",
       "  <thead>\n",
       "    <tr style=\"text-align: right;\">\n",
       "      <th></th>\n",
       "      <th>port_form_id</th>\n",
       "      <th>port_to_id</th>\n",
       "      <th>trip_type</th>\n",
       "      <th>url</th>\n",
       "      <th>publish_date</th>\n",
       "      <th>expir_date</th>\n",
       "    </tr>\n",
       "  </thead>\n",
       "  <tbody>\n",
       "    <tr>\n",
       "      <th>0</th>\n",
       "      <td>372</td>\n",
       "      <td>32</td>\n",
       "      <td>O</td>\n",
       "      <td>cac-zzk-o</td>\n",
       "      <td>2024-04-08</td>\n",
       "      <td>2024-05-11</td>\n",
       "    </tr>\n",
       "    <tr>\n",
       "      <th>1</th>\n",
       "      <td>572</td>\n",
       "      <td>248</td>\n",
       "      <td>O</td>\n",
       "      <td>rev-kka-o</td>\n",
       "      <td>2024-04-08</td>\n",
       "      <td>2024-05-11</td>\n",
       "    </tr>\n",
       "  </tbody>\n",
       "</table>\n",
       "</div>"
      ],
      "text/plain": [
       "   port_form_id  port_to_id trip_type        url publish_date  expir_date\n",
       "0           372          32         O  cac-zzk-o   2024-04-08  2024-05-11\n",
       "1           572         248         O  rev-kka-o   2024-04-08  2024-05-11"
      ]
     },
     "execution_count": 177,
     "metadata": {},
     "output_type": "execute_result"
    }
   ],
   "source": [
    "today = datetime.today()\n",
    "\n",
    "# Add 1 month and 3 days\n",
    "future_date = today + relativedelta(months=1, days=3)\n",
    "\n",
    "\n",
    "offers_tamplet['publish_date'] = today.strftime('%Y-%m-%d')\n",
    "offers_tamplet['expir_date'] = future_date.strftime('%Y-%m-%d')\n",
    "\n",
    "\n",
    "offers_tamplet.drop_duplicates(inplace=True)\n",
    "\n",
    "offers_tamplet.head(2)"
   ]
  },
  {
   "cell_type": "code",
   "execution_count": 178,
   "metadata": {},
   "outputs": [],
   "source": [
    "offers_tamplet.to_excel('offers_tamplet.xlsx',index= False)"
   ]
  },
  {
   "cell_type": "code",
   "execution_count": 179,
   "metadata": {},
   "outputs": [
    {
     "data": {
      "text/html": [
       "<div>\n",
       "<style scoped>\n",
       "    .dataframe tbody tr th:only-of-type {\n",
       "        vertical-align: middle;\n",
       "    }\n",
       "\n",
       "    .dataframe tbody tr th {\n",
       "        vertical-align: top;\n",
       "    }\n",
       "\n",
       "    .dataframe thead th {\n",
       "        text-align: right;\n",
       "    }\n",
       "</style>\n",
       "<table border=\"1\" class=\"dataframe\">\n",
       "  <thead>\n",
       "    <tr style=\"text-align: right;\">\n",
       "      <th></th>\n",
       "      <th>offer_url</th>\n",
       "      <th>country_id</th>\n",
       "      <th>price</th>\n",
       "    </tr>\n",
       "  </thead>\n",
       "  <tbody>\n",
       "    <tr>\n",
       "      <th>0</th>\n",
       "      <td>cac-zzk-o</td>\n",
       "      <td>23.0</td>\n",
       "      <td>{'en': 3306, 'ar': '٣٣٠٦', 'gr': 3306, 'it': 3...</td>\n",
       "    </tr>\n",
       "    <tr>\n",
       "      <th>1</th>\n",
       "      <td>rev-kka-o</td>\n",
       "      <td>23.0</td>\n",
       "      <td>{'en': 6363, 'ar': '٦٣٦٣', 'gr': 6363, 'it': 6...</td>\n",
       "    </tr>\n",
       "  </tbody>\n",
       "</table>\n",
       "</div>"
      ],
      "text/plain": [
       "   offer_url  country_id                                              price\n",
       "0  cac-zzk-o        23.0  {'en': 3306, 'ar': '٣٣٠٦', 'gr': 3306, 'it': 3...\n",
       "1  rev-kka-o        23.0  {'en': 6363, 'ar': '٦٣٦٣', 'gr': 6363, 'it': 6..."
      ]
     },
     "execution_count": 179,
     "metadata": {},
     "output_type": "execute_result"
    }
   ],
   "source": [
    "offer_content = pd.DataFrame()\n",
    "\n",
    "\n",
    "offer_content['offer_url'] = (df['from_code'] + \"-\" + df['to_code'] + \"-\" + df['trip_type']).str.lower()\n",
    "offer_content['country_id'] = df['Country_ID']\n",
    "\n",
    " \n",
    "offer_content['price'] = df.apply(lambda row: {\"en\": int(row['price'])\n",
    "                                                , \"ar\": row['price_ar']\n",
    "                                                , \"gr\": int(row['price'])\n",
    "                                                , \"it\": int(row['price'])\n",
    "                                                , \"cz\": int(row['price'])\n",
    "                                                , \"fr\": int(row['price'])\n",
    "                                                , \"sk\": int(row['price'])}, axis=1)\n",
    "\n",
    "offer_content.head(2)"
   ]
  },
  {
   "cell_type": "code",
   "execution_count": 180,
   "metadata": {},
   "outputs": [],
   "source": [
    "offer_content.to_excel('offer_content.xlsx',index= False)"
   ]
  },
  {
   "cell_type": "code",
   "execution_count": 181,
   "metadata": {},
   "outputs": [],
   "source": [
    "if problem_collector :\n",
    "    report = pd.DataFrame(list(problem_collector.items()),columns=['Case','Details'])\n",
    "    report.to_excel('Report.xlsx',index= False)"
   ]
  },
  {
   "cell_type": "code",
   "execution_count": null,
   "metadata": {},
   "outputs": [],
   "source": []
  },
  {
   "cell_type": "code",
   "execution_count": null,
   "metadata": {},
   "outputs": [],
   "source": []
  },
  {
   "cell_type": "code",
   "execution_count": null,
   "metadata": {},
   "outputs": [],
   "source": []
  }
 ],
 "metadata": {
  "kernelspec": {
   "display_name": "Python 3 (ipykernel)",
   "language": "python",
   "name": "python3"
  },
  "language_info": {
   "codemirror_mode": {
    "name": "ipython",
    "version": 3
   },
   "file_extension": ".py",
   "mimetype": "text/x-python",
   "name": "python",
   "nbconvert_exporter": "python",
   "pygments_lexer": "ipython3",
   "version": "3.11.4"
  }
 },
 "nbformat": 4,
 "nbformat_minor": 4
}
